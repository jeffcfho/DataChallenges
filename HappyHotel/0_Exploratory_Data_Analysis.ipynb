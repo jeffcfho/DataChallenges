{
 "cells": [
  {
   "cell_type": "markdown",
   "metadata": {},
   "source": [
    "# Exploratory Data Analysis\n",
    "### Jeff Ho\n",
    "\n",
    "This notebook shows ingesting, cleaning, and understanding the data for this challenge."
   ]
  },
  {
   "cell_type": "markdown",
   "metadata": {},
   "source": [
    "**Goal:**\n",
    "Provide recommendations to specific hotels\n",
    "\n",
    "**Deliverables:**\n",
    "1. Method to identify topics within reviews\n",
    "2. Method to assign scores for each topic to each hotel\n",
    "\n",
    "**Why?**\n",
    "Understand each hotel’s performance beyond “happy”/“not happy”.\n"
   ]
  },
  {
   "cell_type": "code",
   "execution_count": 1,
   "metadata": {},
   "outputs": [],
   "source": [
    "import pandas as pd\n",
    "import matplotlib.pyplot as plt"
   ]
  },
  {
   "cell_type": "code",
   "execution_count": 6,
   "metadata": {},
   "outputs": [
    {
     "data": {
      "text/html": [
       "<div>\n",
       "<style scoped>\n",
       "    .dataframe tbody tr th:only-of-type {\n",
       "        vertical-align: middle;\n",
       "    }\n",
       "\n",
       "    .dataframe tbody tr th {\n",
       "        vertical-align: top;\n",
       "    }\n",
       "\n",
       "    .dataframe thead th {\n",
       "        text-align: right;\n",
       "    }\n",
       "</style>\n",
       "<table border=\"1\" class=\"dataframe\">\n",
       "  <thead>\n",
       "    <tr style=\"text-align: right;\">\n",
       "      <th></th>\n",
       "      <th>User_ID</th>\n",
       "      <th>Description</th>\n",
       "      <th>Is_Response</th>\n",
       "      <th>hotel_ID</th>\n",
       "    </tr>\n",
       "  </thead>\n",
       "  <tbody>\n",
       "    <tr>\n",
       "      <th>0</th>\n",
       "      <td>id10329</td>\n",
       "      <td>Stayed here with husband and sons on the way t...</td>\n",
       "      <td>happy</td>\n",
       "      <td>8</td>\n",
       "    </tr>\n",
       "    <tr>\n",
       "      <th>1</th>\n",
       "      <td>id10331</td>\n",
       "      <td>We had - rooms. One was very nice and clearly ...</td>\n",
       "      <td>happy</td>\n",
       "      <td>3</td>\n",
       "    </tr>\n",
       "    <tr>\n",
       "      <th>2</th>\n",
       "      <td>id10333</td>\n",
       "      <td>My wife &amp; I stayed in this glorious city a whi...</td>\n",
       "      <td>happy</td>\n",
       "      <td>3</td>\n",
       "    </tr>\n",
       "    <tr>\n",
       "      <th>3</th>\n",
       "      <td>id10334</td>\n",
       "      <td>My boyfriend and I stayed at the Fairmont on a...</td>\n",
       "      <td>happy</td>\n",
       "      <td>7</td>\n",
       "    </tr>\n",
       "    <tr>\n",
       "      <th>4</th>\n",
       "      <td>id10336</td>\n",
       "      <td>Steps off Times Square, nice rooms, stayed - n...</td>\n",
       "      <td>happy</td>\n",
       "      <td>3</td>\n",
       "    </tr>\n",
       "  </tbody>\n",
       "</table>\n",
       "</div>"
      ],
      "text/plain": [
       "   User_ID                                        Description Is_Response  \\\n",
       "0  id10329  Stayed here with husband and sons on the way t...       happy   \n",
       "1  id10331  We had - rooms. One was very nice and clearly ...       happy   \n",
       "2  id10333  My wife & I stayed in this glorious city a whi...       happy   \n",
       "3  id10334  My boyfriend and I stayed at the Fairmont on a...       happy   \n",
       "4  id10336  Steps off Times Square, nice rooms, stayed - n...       happy   \n",
       "\n",
       "   hotel_ID  \n",
       "0         8  \n",
       "1         3  \n",
       "2         3  \n",
       "3         7  \n",
       "4         3  "
      ]
     },
     "metadata": {},
     "output_type": "display_data"
    },
    {
     "name": "stdout",
     "output_type": "stream",
     "text": [
      "26521\n"
     ]
    },
    {
     "data": {
      "text/html": [
       "<div>\n",
       "<style scoped>\n",
       "    .dataframe tbody tr th:only-of-type {\n",
       "        vertical-align: middle;\n",
       "    }\n",
       "\n",
       "    .dataframe tbody tr th {\n",
       "        vertical-align: top;\n",
       "    }\n",
       "\n",
       "    .dataframe thead th {\n",
       "        text-align: right;\n",
       "    }\n",
       "</style>\n",
       "<table border=\"1\" class=\"dataframe\">\n",
       "  <thead>\n",
       "    <tr style=\"text-align: right;\">\n",
       "      <th></th>\n",
       "      <th>User_ID</th>\n",
       "      <th>Description</th>\n",
       "      <th>Is_Response</th>\n",
       "      <th>hotel_ID</th>\n",
       "    </tr>\n",
       "  </thead>\n",
       "  <tbody>\n",
       "    <tr>\n",
       "      <th>0</th>\n",
       "      <td>id10326</td>\n",
       "      <td>The room was kind of clean but had a VERY stro...</td>\n",
       "      <td>not happy</td>\n",
       "      <td>3</td>\n",
       "    </tr>\n",
       "    <tr>\n",
       "      <th>1</th>\n",
       "      <td>id10327</td>\n",
       "      <td>I stayed at the Crown Plaza April -- - April -...</td>\n",
       "      <td>not happy</td>\n",
       "      <td>9</td>\n",
       "    </tr>\n",
       "    <tr>\n",
       "      <th>2</th>\n",
       "      <td>id10328</td>\n",
       "      <td>I booked this hotel through Hotwire at the low...</td>\n",
       "      <td>not happy</td>\n",
       "      <td>3</td>\n",
       "    </tr>\n",
       "    <tr>\n",
       "      <th>3</th>\n",
       "      <td>id10330</td>\n",
       "      <td>My girlfriends and I stayed here to celebrate ...</td>\n",
       "      <td>not happy</td>\n",
       "      <td>3</td>\n",
       "    </tr>\n",
       "    <tr>\n",
       "      <th>4</th>\n",
       "      <td>id10332</td>\n",
       "      <td>My husband and I have stayed in this hotel a f...</td>\n",
       "      <td>not happy</td>\n",
       "      <td>7</td>\n",
       "    </tr>\n",
       "  </tbody>\n",
       "</table>\n",
       "</div>"
      ],
      "text/plain": [
       "   User_ID                                        Description Is_Response  \\\n",
       "0  id10326  The room was kind of clean but had a VERY stro...   not happy   \n",
       "1  id10327  I stayed at the Crown Plaza April -- - April -...   not happy   \n",
       "2  id10328  I booked this hotel through Hotwire at the low...   not happy   \n",
       "3  id10330  My girlfriends and I stayed here to celebrate ...   not happy   \n",
       "4  id10332  My husband and I have stayed in this hotel a f...   not happy   \n",
       "\n",
       "   hotel_ID  \n",
       "0         3  \n",
       "1         9  \n",
       "2         3  \n",
       "3         3  \n",
       "4         7  "
      ]
     },
     "metadata": {},
     "output_type": "display_data"
    },
    {
     "name": "stdout",
     "output_type": "stream",
     "text": [
      "12411\n",
      "38932\n"
     ]
    }
   ],
   "source": [
    "# load data\n",
    "df_happy = pd.read_csv('hotel_happy_reviews.csv')\n",
    "display(df_happy.head())\n",
    "print(len(df_happy))\n",
    "\n",
    "df_not_happy = pd.read_csv('hotel_not_happy_reviews.csv')\n",
    "display(df_not_happy.head())\n",
    "print(len(df_not_happy))\n",
    "\n",
    "#join dataframes together\n",
    "df = df_happy.append(df_not_happy)\n",
    "print(len(df))"
   ]
  },
  {
   "cell_type": "markdown",
   "metadata": {},
   "source": [
    "### Basic questions about the data"
   ]
  },
  {
   "cell_type": "code",
   "execution_count": 7,
   "metadata": {},
   "outputs": [
    {
     "data": {
      "text/plain": [
       "4     6847\n",
       "5     6682\n",
       "8     5353\n",
       "7     5317\n",
       "3     5082\n",
       "1     3929\n",
       "2     2058\n",
       "10    1511\n",
       "6     1157\n",
       "9      996\n",
       "Name: hotel_ID, dtype: int64"
      ]
     },
     "metadata": {},
     "output_type": "display_data"
    },
    {
     "data": {
      "text/plain": [
       "id21420    1\n",
       "id26210    1\n",
       "id19627    1\n",
       "id45569    1\n",
       "id21733    1\n",
       "          ..\n",
       "id20695    1\n",
       "id29374    1\n",
       "id31126    1\n",
       "id32248    1\n",
       "id16925    1\n",
       "Name: User_ID, Length: 38932, dtype: int64"
      ]
     },
     "metadata": {},
     "output_type": "display_data"
    }
   ],
   "source": [
    "# Are there 10 hotels as expected?\n",
    "display(df['hotel_ID'].value_counts())\n",
    "# Yes, and there is an imbalance where some hotels have a lot more reviews than others.\n",
    "\n",
    "# How many users wrote reviews?\n",
    "display(df['User_ID'].value_counts())\n",
    "# All user ids are unique."
   ]
  },
  {
   "cell_type": "code",
   "execution_count": 18,
   "metadata": {},
   "outputs": [
    {
     "data": {
      "text/plain": [
       "happy        26521\n",
       "not happy    12411\n",
       "Name: Is_Response, dtype: int64"
      ]
     },
     "execution_count": 18,
     "metadata": {},
     "output_type": "execute_result"
    }
   ],
   "source": [
    "df['Is_Response'].value_counts() #check for nulls"
   ]
  },
  {
   "cell_type": "code",
   "execution_count": 29,
   "metadata": {
    "scrolled": false
   },
   "outputs": [
    {
     "data": {
      "image/png": "[encoded data removed]",
      "text/plain": [
       "<Figure size 576x216 with 1 Axes>"
      ]
     },
     "metadata": {
      "needs_background": "light"
     },
     "output_type": "display_data"
    },
    {
     "data": {
      "text/html": [
       "<div>\n",
       "<style scoped>\n",
       "    .dataframe tbody tr th:only-of-type {\n",
       "        vertical-align: middle;\n",
       "    }\n",
       "\n",
       "    .dataframe tbody tr th {\n",
       "        vertical-align: top;\n",
       "    }\n",
       "\n",
       "    .dataframe thead th {\n",
       "        text-align: right;\n",
       "    }\n",
       "</style>\n",
       "<table border=\"1\" class=\"dataframe\">\n",
       "  <thead>\n",
       "    <tr style=\"text-align: right;\">\n",
       "      <th></th>\n",
       "      <th>happy</th>\n",
       "    </tr>\n",
       "    <tr>\n",
       "      <th>hotel_ID</th>\n",
       "      <th></th>\n",
       "    </tr>\n",
       "  </thead>\n",
       "  <tbody>\n",
       "    <tr>\n",
       "      <th>2</th>\n",
       "      <td>0.508260</td>\n",
       "    </tr>\n",
       "    <tr>\n",
       "      <th>10</th>\n",
       "      <td>0.514229</td>\n",
       "    </tr>\n",
       "    <tr>\n",
       "      <th>9</th>\n",
       "      <td>0.515060</td>\n",
       "    </tr>\n",
       "    <tr>\n",
       "      <th>1</th>\n",
       "      <td>0.554594</td>\n",
       "    </tr>\n",
       "    <tr>\n",
       "      <th>7</th>\n",
       "      <td>0.567801</td>\n",
       "    </tr>\n",
       "    <tr>\n",
       "      <th>4</th>\n",
       "      <td>0.679276</td>\n",
       "    </tr>\n",
       "    <tr>\n",
       "      <th>3</th>\n",
       "      <td>0.682802</td>\n",
       "    </tr>\n",
       "    <tr>\n",
       "      <th>6</th>\n",
       "      <td>0.711322</td>\n",
       "    </tr>\n",
       "    <tr>\n",
       "      <th>5</th>\n",
       "      <td>0.829093</td>\n",
       "    </tr>\n",
       "    <tr>\n",
       "      <th>8</th>\n",
       "      <td>0.841211</td>\n",
       "    </tr>\n",
       "  </tbody>\n",
       "</table>\n",
       "</div>"
      ],
      "text/plain": [
       "             happy\n",
       "hotel_ID          \n",
       "2         0.508260\n",
       "10        0.514229\n",
       "9         0.515060\n",
       "1         0.554594\n",
       "7         0.567801\n",
       "4         0.679276\n",
       "3         0.682802\n",
       "6         0.711322\n",
       "5         0.829093\n",
       "8         0.841211"
      ]
     },
     "metadata": {},
     "output_type": "display_data"
    },
    {
     "data": {
      "image/png": "[encoded data removed]",
      "text/plain": [
       "<Figure size 576x216 with 1 Axes>"
      ]
     },
     "metadata": {
      "needs_background": "light"
     },
     "output_type": "display_data"
    }
   ],
   "source": [
    "# Plot Hotel review number imbalance\n",
    "fig,ax = plt.subplots(figsize=(8,3))\n",
    "df['hotel_ID'].value_counts().sort_index().plot(ax=ax,kind='bar')\n",
    "plt.xticks(rotation=0,ha='right')\n",
    "plt.ylabel('Number of reviews by hotel')\n",
    "plt.xlabel('Hotel number')\n",
    "plt.show()\n",
    "\n",
    "# Do some hotels have more happy/not-happy reviews?\n",
    "df['happy'] = df['Is_Response'].apply(lambda x: 1 if x=='happy' else 0)\n",
    "happy_pct = df[['hotel_ID','happy']].groupby('hotel_ID').mean()\n",
    "display(happy_pct.sort_values(by='happy'))\n",
    "fig,ax = plt.subplots(figsize=(8,3))\n",
    "happy_pct.plot(ax=ax,kind='bar')\n",
    "plt.xticks(rotation=0,ha='right')\n",
    "plt.ylabel('Pct of happy reviews by hotel')\n",
    "plt.xlabel('Hotel number')\n",
    "plt.show()\n"
   ]
  },
  {
   "cell_type": "markdown",
   "metadata": {},
   "source": [
    "### Examplex of reviews to build intuition about data"
   ]
  },
  {
   "cell_type": "code",
   "execution_count": 40,
   "metadata": {
    "scrolled": false
   },
   "outputs": [
    {
     "name": "stdout",
     "output_type": "stream",
     "text": [
      "['id31099'\n",
      " 'We stayed for - weeks and were sorry to leave. Staff very helpful and professional. We had some issues with a number of things not working (Internet in room was not reliable so we were relocated - thanks Jay) and while it would have been better if there had been no problems these were sorted out. Rooms are bright & comfortable, bathroom fine (not sure why so many have issue with the shower configuration) and the roof top bar was perfect place to recall our daily outings. We would definitely stay here again due to the location and friendly smiling staff'\n",
      " 'happy']\n",
      "\n",
      "\n",
      "['id13149'\n",
      " 'The Washington Court Hotel graciously upgraded us (in special circumstances) to a room with a fabulous! view of the Capitol. The rooms were quite nice with comfortable beds & the staff very helpful and friendly. The location is very convenient for DC.'\n",
      " 'happy']\n",
      "\n",
      "\n",
      "['id44836'\n",
      " 'We traveled a lot with SPG hotels, largely because the chain covers some really good properties in Europe and Asian, we have been happy with our experiences elsewhere overall, till with Sheraton at fisherman\\'s wharf- we stayed for one night between April --- may- and could not wait running away any faster, we moved back to our usual favorite in town the mark Hopkins staying for test the week where the old School customer services still value the most...\\r\\nTo sum up our -- hour experience with Sheraton- we checked in at late pm, had a pleasant checkin experiences with Jim, we were assigned to room ----, was told it\\'s a preferred guest room, and quietly facing court- yard. The room was okay size, but with a tiny bathroom, barely can move around- tho just done renovation, ceiling was still run-down, we can literally hear most of noises and foot steps from neighbours. But our real nightmare started at after -am midnight- since we have a minor surgery at USCF centre the next day, we went to bed a bit earlier, but after past mid night- we were woke up by the running water and heavy foot steps from upstairs, then leaking water in the bathroom--- minutes later, we heard loud repair work, with chain-sawing and drilling noises from upstairs at almost -:--am!!!!! We then have to call downstairs customer services asking what\\'s going on, at first, no response- answer for ehat\\'s about, quickly few minutes later, same lady call back saying repair work need to be done, and the option for us is to \\' move to another room\\' if we like\"\"\"\"\"\"\"\"\"\"\"\"\"\"\"\"\"\"\"\"\"\"\"\"\"\"\"\"\"\"\"\" -- we requested for manager... And explained our frustration as to a Sheraton - rated hotel- this would never have happened!!! Of course, the manager never showed up nor called back, only the same lady, called back- after a few rounds phone calls and complains, the \\'work\\' finally stopped- then we got even calls from repairman at mid of night to wanting look at bathroom leakage.... The end, everything finally gone peace at around -am -- we woke up again the next morning, but door knock - eventually we put out \\' do not disturb \\' to rest some- of course, we were late for the hospital but manage to be okay- we checked out the hotel right after wards, to our very surprise- we never even receive a note nor any apology from hotel management about a near nightmare experience!!! One thing for sure, this is our last w Sheraton at fisherman\\'s wharf. \\r\\nGuest from Hongkong, SPG gold since ----'\n",
      " 'not happy']\n",
      "\n",
      "\n",
      "['id38586'\n",
      " 'We stayed inbetween Christmas & New Year - busy, busy, busy. The location couldn\\'t be better, if your looking for the vibrant New York with lots going on around you then you are in the right-place. We had a room overlooking Time Square, which gave a brilliant view of what was going on below. There are bright lights & some background noise but the thick curtains kept it to an acceptable level. \\r\\nI can\\'t fault the Hotel Staff, on every occasion we asked for help it was given with enthusiasm, particularly when making sure we got to the airport after being let down by our taxi - they went above & beyond to make sure we made it to JFK in time. \\r\\nWe had wonderful breakfasts at The \"\"\"\"\"\"\"\"\"\"\"\"\"\"\"\"\"\"\"\"\"\"\"\"\"\"\"\"\"\"\"\"Crossroads\"\"\"\"\"\"\"\"\"\"\"\"\"\"\"\"\"\"\"\"\"\"\"\"\"\"\"\"\"\"\"\", good food & lots of it, which set us up the rigours of the day ahead. \\r\\nThe hotel was within walking distance of nearly all the sights & shops that we wanted to visit in New York.'\n",
      " 'happy']\n",
      "\n",
      "\n",
      "['id41675'\n",
      " 'I wished I had stayed overnight at the Hilton before boarding for New York. For the price you pay for this hotel and the service you recieve it was amazing. I would highly recommend this hotel if you are travelling from Australia to New York. The flight from Australia to New York is too long and you really need to stop overnight to avoid having jet lag.'\n",
      " 'happy']\n",
      "\n",
      "\n",
      "['id15162'\n",
      " 'Look, it\\'s a Fairfield Inn and that makes it one of Marriott\\'s lowest end property. I usually only like to stay at Courtyard and above, but I knew this was a newer property so I gave it a chance.\\r\\nPlace is very clean, with a Fridays connected to it. So that was nice. The rooms were tiny but modern with a new --\"\"\"\"\"\"\"\"\"\"\"\"\"\"\"\"\"\"\"\"\"\"\"\"\"\"\"\"\"\"\"\" flat screen TV. I stayed in a room with two beds, and they were double beds, not queens. I would not want to stay in a room this small with an extra person as it would be crowded.\\r\\nNot a lot of frills, but clean, new and a good value. There is a Courtyard next store and I would probably elect to stay there next time as I prefer a larger room. I pricelined this room and got is -.- stars for $-- a night.'\n",
      " 'happy']\n",
      "\n",
      "\n",
      "['id41187'\n",
      " 'This was a quick overnight stay in DC for a late working night. We stay at other Kimpton Hotels and felt it would be worthwhile to check this one out.\\r\\nPositives:\\r\\nThe rooftop bar and pool setting is amazing. beautiful views, playing a movie on a wall under the stars - just a great setting.\\r\\nRestaurant (attached) is very good, excellent service.\\r\\nCheckin was smooth.\\r\\nLobby is a bit crowded and eclectic, but is nice.\\r\\nHallways have mirrors running on them - seem bright enough.\\r\\nRoom was big (stayed in a suite) - was on a lower level so no view, but nicely sized and carries the them from the hallways.\\r\\nMassive soaking tub (biggest I\\'ve ever seen) in the bathroom.\\r\\nRoom was silent. For a city hotel - this is huge. I mean no noise at all in the room.\\r\\nNegatives:\\r\\nRoom was not Kimpton clean. Stains on carpet and walls.\\r\\nCarpet was not smooth - had several \"\"\"\"\"\"\"\"\"\"\"\"\"\"\"\"\"\"\"\"\"\"\"\"\"\"\"\"\"\"\"\"ripples\"\"\"\"\"\"\"\"\"\"\"\"\"\"\"\"\"\"\"\"\"\"\"\"\"\"\"\"\"\"\"\" where it had been pulled around.\\r\\nWalls were very bare - just mirrors-painting - seemed very \"\"\"\"\"\"\"\"\"\"\"\"\"\"\"\"\"\"\"\"\"\"\"\"\"\"\"\"\"\"\"\"empty\"\"\"\"\"\"\"\"\"\"\"\"\"\"\"\"\"\"\"\"\"\"\"\"\"\"\"\"\"\"\"\".\\r\\nThe cocoon shower is a marketing deal - nothing special about it. Very very low water pressure. Also had a lot of trouble keeping the temperature even.\\r\\nBathroom amenities were very sparse. Granted they said to call for anything that was not there, but no shower cap? Just seemed odd.\\r\\nLeather wrapped platform bed was not the most comfortable. And I did not like the design, but I guess it is ok for some.\\r\\nNo coffee maker in room. Sure they have it in the lobby, but if you want a cup at -am when getting up you\\'d have to get dressed, go to the elevator and head down there and hope they have some made. Just not logical when even Motel - puts a basic maker in the room.\\r\\nDesk chair was very hard to move - no casters - on the shag carpeting. had to pick it up as it did not slide - and this is not a lightweight chair. Chair itself was ok for comfort.\\r\\nOverall we might come back and try a different type of room. But the cleanliness and the lack of little things bothers me - especially at --- + a night. I\\'d rather pay -- bucks more and go to the Monaco, or save a hundred and cross the street to the Residence Inn. Shower was the biggest issue - they advertise the heck out of it, and the water was pathetic.\\r\\nAnyway - you may not love it - but you should not hate it.'\n",
      " 'not happy']\n",
      "\n",
      "\n",
      "['id20988'\n",
      " 'I am a frequent visitor to the Boston area for business as well as pleasure. I began using this hotel over -- years ago but in the last three years had opted for a change of hotel. Given the rates I opted to return to the Marriott Copley. \\r\\nChecking in after a long drive I was informed there was no valet parking available for hotel guests as there was a holiday party. I left my luggage with the one and only doorman and headed for the adjoining self-park garage. My daughter began the check-in process. Upon returning from the garage which took some time given the minimal number of spaces available there, I observed our luggage unattended in the lobby in the midst of random people from the party who it was clear had imbibed too much. (In the interim while checking in my daughter commented that the response she received to the parking situation was, “at least it’s less expensive.” I called my daughter, mentioned the luggage situation to find out that she had been informed there was only one bellhop available that evening. \\r\\nThe evening did not end there as we had to call security twice given the noise level on our floor. Lastly, amenities that had been above par on past visits were fairly invisible in our room although when housekeeping was called, they did arrive.\\r\\nUpon arriving home I dashed off a note to the manager detailing the dissatisfaction, I have yet to receive a response. The situation and stay was unfortunate to the least and the term “guest” a stretch to say the least.'\n",
      " 'not happy']\n",
      "\n",
      "\n",
      "['id12057'\n",
      " 'This hotel was clean pretty and the location was great, all staff always said hi and we had a real good rate. Special thanks to jose rosales at check in and all the staff from the restaurant the Q and the bar.'\n",
      " 'happy']\n",
      "\n",
      "\n",
      "['id39396'\n",
      " \"I picked the hotel because of its location and appearance from the outside. I previously stayed at the Gansevoort hotel nearby, and thought that this would be a better alternative. The lobby is cool, and checkin was quick and friendly (not as pretentious like the average W hotel). The rooms are very small, but this isn't a problem due to a clever layout, big windows, lighting, and mirrors. The design reminds me a bit of a youth hostel, however if you have enough of over designed hotels, then it's is refreshingly simple and functional. The first room (----) had a very loud ventilation, however the second room (----) was even worse. Since it was windy outside, somehow some flaps in the ventilation system made a loud hammering noise that prevented me from sleeping. Was too tired to change it again. I had dinner at the Standard Grill (my second visit, just ok as they barbecued the scallops without any spices or seasoning, the worst scallops in a long time, and the most expensive, too). The bar at the --th floor is phantastic, cool design, good crowd, great view. Since I left at -:-- am next morning I placed an order for room service breakfast at -:--. I was informed that room service won't start until -:--, despite being told at checkin that they have -- hour room service. They finally agreed that they could only do an omelette with a filling different to what I ordered (god knows why), however finally delivered the omelette I had originally ordered. The coffee was on the house for the trouble caused (however without spoon to stir the sugar). Still better choice than the Gansevoort, but wouldn't return.\"\n",
      " 'happy']\n",
      "\n",
      "\n"
     ]
    }
   ],
   "source": [
    "# Randomly sample 10 reviews\n",
    "for review in df.sample(10).values:\n",
    "    print(review[:-2])\n",
    "    print('\\n')"
   ]
  },
  {
   "cell_type": "markdown",
   "metadata": {},
   "source": [
    "### Findings:\n",
    "\n",
    "1. Reviews are quite long.\n",
    "2. Need to clean a lot of special characters\n",
    "3. Numbers have been redacted."
   ]
  }
 ],
 "metadata": {
  "kernelspec": {
   "display_name": "Python 3",
   "language": "python",
   "name": "python3"
  },
  "language_info": {
   "codemirror_mode": {
    "name": "ipython",
    "version": 3
   },
   "file_extension": ".py",
   "mimetype": "text/x-python",
   "name": "python",
   "nbconvert_exporter": "python",
   "pygments_lexer": "ipython3",
   "version": "3.7.6"
  }
 },
 "nbformat": 4,
 "nbformat_minor": 2
}
